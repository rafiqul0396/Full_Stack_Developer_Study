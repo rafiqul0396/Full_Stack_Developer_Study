{
 "cells": [
  {
   "cell_type": "markdown",
   "metadata": {},
   "source": [
    "#### decimal to binary\n"
   ]
  },
  {
   "cell_type": "code",
   "execution_count": 1,
   "metadata": {},
   "outputs": [
    {
     "name": "stdout",
     "output_type": "stream",
     "text": [
      "1010\n",
      "111\n",
      "100\n"
     ]
    }
   ],
   "source": [
    "# decimal to binary\n",
    "def decimalToBinary(n):\n",
    "    return bin(n).replace(\"0b\", \"\")\n",
    "\n",
    "\n",
    "#driver code\n",
    "if __name__ == '__main__':\n",
    "    print(decimalToBinary(10))\n",
    "    print(decimalToBinary(7))\n",
    "    print(decimalToBinary(4))"
   ]
  },
  {
   "cell_type": "markdown",
   "metadata": {},
   "source": [
    "#### decimal to binary using mathematical approach\n"
   ]
  },
  {
   "cell_type": "code",
   "execution_count": 3,
   "metadata": {},
   "outputs": [
    {
     "name": "stdout",
     "output_type": "stream",
     "text": [
      "1010\n",
      "111\n",
      "100"
     ]
    }
   ],
   "source": [
    "## decimal to binary using mathematical approach\n",
    "\n",
    "def decimalToBinary(n):\n",
    "    binaryNum=[0]*n\n",
    "    i=0\n",
    "    # iterate over the number\n",
    "    while(n>0):\n",
    "        # store the remainder in binaryNum\n",
    "        binaryNum[i]=n%2\n",
    "        # divide the number by 2\n",
    "        n=n//2\n",
    "        i+=1\n",
    "    # print the binary number\n",
    "    for j in range(i-1, -1, -1):\n",
    "        print(binaryNum[j], end=\"\")\n",
    "\n",
    "\n",
    "#driver code\n",
    "if __name__ == '__main__':\n",
    "    decimalToBinary(10)\n",
    "    print()\n",
    "    decimalToBinary(7)\n",
    "    print()\n",
    "    decimalToBinary(4)\n",
    "\n",
    "#time complexity: O(logn)\n",
    "#space complexity: O(1)\n",
    "\n"
   ]
  },
  {
   "cell_type": "markdown",
   "metadata": {},
   "source": [
    "#### decimal to octal numbers\n"
   ]
  },
  {
   "cell_type": "code",
   "execution_count": 4,
   "metadata": {},
   "outputs": [
    {
     "name": "stdout",
     "output_type": "stream",
     "text": [
      "175\n",
      "26\n",
      "45"
     ]
    }
   ],
   "source": [
    "# decimal to octal numbers\n",
    "\n",
    "def decimalToOctal(n):\n",
    "    octalNum=[0]*n\n",
    "    i=0\n",
    "    # iterate over the number\n",
    "    while(n>0):\n",
    "        # store the remainder in octalNum\n",
    "        octalNum[i]=n%8\n",
    "        # divide the number by 8\n",
    "        n=n//8\n",
    "        i+=1\n",
    "    # print the octal number\n",
    "    for j in range(i-1, -1, -1):\n",
    "        print(octalNum[j], end=\"\")\n",
    "\n",
    "#driver code\n",
    "if __name__ == '__main__':\n",
    "    decimalToOctal(125)\n",
    "    print()\n",
    "    decimalToOctal(22)\n",
    "    print()\n",
    "    decimalToOctal(37)\n"
   ]
  },
  {
   "cell_type": "markdown",
   "metadata": {},
   "source": [
    "#### decimal to hexadecimal numbers\n"
   ]
  },
  {
   "cell_type": "code",
   "execution_count": 5,
   "metadata": {},
   "outputs": [
    {
     "name": "stdout",
     "output_type": "stream",
     "text": [
      "7D\n",
      "16\n",
      "25"
     ]
    }
   ],
   "source": [
    "# decimal to hexadecimal numbers\n",
    "def decimalToHexa(n):\n",
    "    hexaNum=[0]*n\n",
    "    i=0\n",
    "    # iterate over the number\n",
    "    while(n>0):\n",
    "        # store the remainder in hexaNum\n",
    "        hexaNum[i]=n%16\n",
    "        # divide the number by 16\n",
    "        n=n//16\n",
    "        i+=1\n",
    "    # print the hexadecimal number\n",
    "    for j in range(i-1, -1, -1):\n",
    "        if hexaNum[j]>9:\n",
    "            print(chr(hexaNum[j]+55), end=\"\")\n",
    "        else:\n",
    "            print(hexaNum[j], end=\"\")\n",
    "\n",
    "#driver code\n",
    "if __name__ == '__main__':\n",
    "    decimalToHexa(125)\n",
    "    print()\n",
    "    decimalToHexa(22)\n",
    "    print()\n",
    "    decimalToHexa(37)"
   ]
  },
  {
   "cell_type": "markdown",
   "metadata": {},
   "source": [
    "#### add two binary numbers\n"
   ]
  },
  {
   "cell_type": "code",
   "execution_count": 6,
   "metadata": {},
   "outputs": [
    {
     "name": "stdout",
     "output_type": "stream",
     "text": [
      "100\n"
     ]
    }
   ],
   "source": [
    "# add two binary numbers\n",
    "\n",
    "\n",
    "def addBinary(a, b):\n",
    "    # initialize the sum\n",
    "    sum=\"\"\n",
    "    # initialize the carry\n",
    "    carry=0\n",
    "    # iterate over the strings\n",
    "    i=len(a)-1\n",
    "    j=len(b)-1\n",
    "    # iterate until i and j are greater than or equal to 0\n",
    "    while(i>=0 or j>=0):\n",
    "        # if i is greater than or equal to 0, add a[i] to sum and decrement i\n",
    "        if i>=0:\n",
    "            carry+=int(a[i])\n",
    "            i-=1\n",
    "        # if j is greater than or equal to 0, add b[j] to sum and decrement j\n",
    "        if j>=0:\n",
    "            carry+=int(b[j])\n",
    "            j-=1\n",
    "        # add carry%2 to sum\n",
    "        sum=str(carry%2)+sum\n",
    "        # update the carry\n",
    "        carry=carry//2\n",
    "    # if carry is greater than 0, add carry to sum\n",
    "    if carry>0:\n",
    "        sum=\"1\"+sum\n",
    "    return sum\n",
    "\n",
    "#driver code\n",
    "if __name__ == '__main__':\n",
    "    a=\"11\"\n",
    "    b=\"1\"\n",
    "    print(addBinary(a, b))"
   ]
  },
  {
   "cell_type": "markdown",
   "metadata": {},
   "source": [
    "##### Given an array where all elements appear even no of tunes encept 1 element which appears odd no of times Find the ele appearing \n"
   ]
  },
  {
   "cell_type": "code",
   "execution_count": 7,
   "metadata": {},
   "outputs": [
    {
     "name": "stdout",
     "output_type": "stream",
     "text": [
      "3\n"
     ]
    }
   ],
   "source": [
    "# Given an array where all elements appear even no of tunes encept 1 element which appears odd no of times Find the ele appearing \n",
    "\n",
    "def findOdd(arr):\n",
    "    # initialize the result\n",
    "    res=0\n",
    "    # iterate over the array\n",
    "    for i in range(len(arr)):\n",
    "        # xor the result with arr[i]\n",
    "        res^=arr[i]\n",
    "    return res\n",
    "\n",
    "\n",
    "#driver code\n",
    "if __name__ == '__main__':\n",
    "    arr=[1, 2, 3, 2, 3, 1, 3]\n",
    "    print(findOdd(arr))\n",
    "\n",
    "#time complexity: O(n)\n",
    "#space complexity: O(1)\n"
   ]
  },
  {
   "cell_type": "markdown",
   "metadata": {},
   "source": [
    "### count the number of Bits\n",
    "* Write a function that takes an integer and returns the number of 1 bits it has.\n"
   ]
  },
  {
   "cell_type": "code",
   "execution_count": 8,
   "metadata": {},
   "outputs": [
    {
     "name": "stdout",
     "output_type": "stream",
     "text": [
      "3\n"
     ]
    }
   ],
   "source": [
    "#Write a function that takes an integer and returns the number of 1 bits it has.\n",
    "\n",
    "def hammingWeight(n):\n",
    "    # initialize the count\n",
    "    count=0\n",
    "    # iterate over the number\n",
    "    while(n>0):\n",
    "        # if the last bit is 1, increment the count\n",
    "        if n&1:\n",
    "            count+=1\n",
    "        # right shift the number by 1\n",
    "        n=n>>1\n",
    "    return count\n",
    "\n",
    "\n",
    "#driver code\n",
    "if __name__ == '__main__':\n",
    "    n=11\n",
    "    print(hammingWeight(n))\n",
    "\n",
    "\n",
    "#time complexity: O(logn)\n",
    "#space complexity: O(1)\n"
   ]
  },
  {
   "cell_type": "markdown",
   "metadata": {},
   "source": [
    "### count the number of Bits using Brian Kernighan’s Algorithm\n"
   ]
  },
  {
   "cell_type": "code",
   "execution_count": 10,
   "metadata": {},
   "outputs": [
    {
     "name": "stdout",
     "output_type": "stream",
     "text": [
      "1\n"
     ]
    }
   ],
   "source": [
    "# count number of bits in the number\n",
    "def countBits(n):\n",
    "    # initialize the count\n",
    "    count=0\n",
    "    # iterate over the number\n",
    "    while(n>0):\n",
    "        # if the last bit is 1, increment the count\n",
    "        if n&1:\n",
    "            count+=1\n",
    "        # right shift the number by 1\n",
    "        n=n>>1\n",
    "    return count\n",
    "    \n",
    "\n",
    "\n",
    "#driver code\n",
    "if __name__ == '__main__':\n",
    "    n=4\n",
    "    print(countBits(n))\n",
    "\n"
   ]
  },
  {
   "cell_type": "markdown",
   "metadata": {},
   "source": [
    "##### Count total bits in a number\n"
   ]
  },
  {
   "cell_type": "code",
   "execution_count": 11,
   "metadata": {},
   "outputs": [
    {
     "name": "stdout",
     "output_type": "stream",
     "text": [
      "3\n"
     ]
    }
   ],
   "source": [
    "# Count total bits in a number\n",
    "\n",
    "def countBits(n):\n",
    "    # initialize the count\n",
    "    count=0\n",
    "    # iterate over the number\n",
    "    while(n>0):\n",
    "           # if the last bit is , increment the count\n",
    "            count+=1\n",
    "            # right shift the number by 1\n",
    "            n=n>>1\n",
    "    return count\n",
    "\n",
    "\n",
    "#driver code\n",
    "if __name__ == '__main__':\n",
    "    n=4\n",
    "    print(countBits(n))"
   ]
  },
  {
   "cell_type": "markdown",
   "metadata": {},
   "source": [
    "##### count total unset bits in the number\n"
   ]
  },
  {
   "cell_type": "code",
   "execution_count": 12,
   "metadata": {},
   "outputs": [
    {
     "name": "stdout",
     "output_type": "stream",
     "text": [
      "2\n"
     ]
    }
   ],
   "source": [
    "# count total unset bits in the number\n",
    "\n",
    "def countUnsetBits(n):\n",
    "    # initialize the count\n",
    "    count=0\n",
    "    # iterate over the number\n",
    "    while(n>0):\n",
    "        # if the last bit is 0, increment the count\n",
    "        if n&1==0:\n",
    "            count+=1\n",
    "        # right shift the number by 1\n",
    "        n=n>>1\n",
    "    return count\n",
    "\n",
    "#driver code\n",
    "if __name__ == '__main__':\n",
    "    n=4\n",
    "    print(countUnsetBits(n))"
   ]
  },
  {
   "cell_type": "code",
   "execution_count": 13,
   "metadata": {},
   "outputs": [
    {
     "data": {
      "text/plain": [
       "'0b1010'"
      ]
     },
     "execution_count": 13,
     "metadata": {},
     "output_type": "execute_result"
    }
   ],
   "source": [
    "n=10\n",
    "bin(n)"
   ]
  },
  {
   "cell_type": "code",
   "execution_count": 14,
   "metadata": {},
   "outputs": [
    {
     "data": {
      "text/plain": [
       "4"
      ]
     },
     "execution_count": 14,
     "metadata": {},
     "output_type": "execute_result"
    }
   ],
   "source": [
    "len(bin(n)[2:])"
   ]
  },
  {
   "cell_type": "markdown",
   "metadata": {},
   "source": [
    "##### Reverse Bits of a given 32 bits unsigned integer.\n"
   ]
  },
  {
   "cell_type": "code",
   "execution_count": 15,
   "metadata": {},
   "outputs": [
    {
     "name": "stdout",
     "output_type": "stream",
     "text": [
      "536870912\n"
     ]
    }
   ],
   "source": [
    "#Reverse Bits of a given 32 bits unsigned integer.\n",
    "\n",
    "def reverseBits(n):\n",
    "    # initialize the result\n",
    "    res=0\n",
    "    # iterate over the number\n",
    "    for i in range(32):\n",
    "        # if the last bit is 1, left shift the result by 1\n",
    "        if n&1:\n",
    "            res=res<<1\n",
    "            # or the result with 1\n",
    "            res=res|1\n",
    "        # else, left shift the result by 1\n",
    "        else:\n",
    "            res=res<<1\n",
    "        # right shift the number by 1\n",
    "        n=n>>1\n",
    "    return res\n",
    "\n",
    "\n",
    "#driver code\n",
    "if __name__ == '__main__':\n",
    "    n=4\n",
    "    print(reverseBits(n))"
   ]
  },
  {
   "cell_type": "markdown",
   "metadata": {},
   "source": [
    "##### Function to set the ith bit of the\n"
   ]
  },
  {
   "cell_type": "code",
   "execution_count": 16,
   "metadata": {},
   "outputs": [
    {
     "name": "stdout",
     "output_type": "stream",
     "text": [
      "6\n"
     ]
    }
   ],
   "source": [
    "# Function to set the ith bit of the\n",
    "# given number num\n",
    "def setBit(num, i):\n",
    "\t\n",
    "\t# Sets the ith bit and return\n",
    "\t# the updated value\n",
    "\treturn num | (1 << i)\n",
    "\n",
    "\n",
    "\n",
    "#driver code\n",
    "if __name__ == '__main__':\n",
    "    n=4\n",
    "    i=1\n",
    "    print(setBit(n, i))\n",
    "\n"
   ]
  },
  {
   "cell_type": "markdown",
   "metadata": {},
   "source": [
    "#### count the total bit in the array"
   ]
  },
  {
   "cell_type": "code",
   "execution_count": 17,
   "metadata": {},
   "outputs": [
    {
     "name": "stdout",
     "output_type": "stream",
     "text": [
      "7\n"
     ]
    }
   ],
   "source": [
    "# Given an array arr, the task is to count the total number of set bits in all numbers of that array arr.\n",
    "\n",
    "def countSetBits(arr):\n",
    "    # initialize the count\n",
    "    count=0\n",
    "    # iterate over the array\n",
    "    for i in range(len(arr)):\n",
    "        # iterate over the number\n",
    "        while(arr[i]>0):\n",
    "            # if the last bit is 1, increment the count\n",
    "            if arr[i]&1:\n",
    "                count+=1\n",
    "            # right shift the number by 1\n",
    "            arr[i]=arr[i]>>1\n",
    "    return count\n",
    "\n",
    "\n",
    "#driver code\n",
    "if __name__ == '__main__':\n",
    "    arr=[1, 2, 3, 4, 5]\n",
    "    print(countSetBits(arr))"
   ]
  },
  {
   "cell_type": "code",
   "execution_count": 19,
   "metadata": {},
   "outputs": [
    {
     "name": "stdout",
     "output_type": "stream",
     "text": [
      "[4, 2, 0, 7, 4]\n"
     ]
    }
   ],
   "source": [
    "#There is a hidden integer array arr that consists of n non-negative integers.\n",
    "\n",
    "##It was encoded into another integer array encoded of length n - 1, such that encoded[i] = arr[i] XOR arr[i + 1]. For example, if arr = [1,0,2,1], then encoded = [1,2,3].\n",
    "\n",
    "#You are given the encoded array. You are also given an integer first, that is the first element of arr, i.e. arr[0].\n",
    "\n",
    "#Return the original array arr. It can be proved that the answer exists and is unique.\n",
    "\n",
    "def decode(encoded, first):\n",
    "    # initialize the result\n",
    "    res=[first]\n",
    "    # iterate over the encoded array\n",
    "    for i in range(len(encoded)):\n",
    "        # xor the first element with encoded[i] and append the result to the result array\n",
    "        res.append(res[i]^encoded[i])\n",
    "    return res\n",
    "\n",
    "\n",
    "#driver code\n",
    "if __name__ == '__main__':\n",
    "    encoded=[1,2,3]\n",
    "    first=1\n",
    "    encoded = [6,2,7,3]\n",
    "    first = 4\n",
    "    print(decode(encoded, first))"
   ]
  },
  {
   "cell_type": "code",
   "execution_count": 20,
   "metadata": {},
   "outputs": [
    {
     "name": "stdout",
     "output_type": "stream",
     "text": [
      "2\n"
     ]
    }
   ],
   "source": [
    "def solve(A):\n",
    "        count=0\n",
    "        while(A>0):\n",
    "            count+=A&1\n",
    "            A=A>>1\n",
    "        return count\n",
    "#drive code\n",
    "\n",
    "if __name__ == \"__main__\":\n",
    "    A=5\n",
    "    print(solve(A))"
   ]
  },
  {
   "cell_type": "code",
   "execution_count": 21,
   "metadata": {},
   "outputs": [
    {
     "name": "stdout",
     "output_type": "stream",
     "text": [
      "1\n"
     ]
    }
   ],
   "source": [
    "#Given a non-empty array of integers nums, every element appears twice except for one. Find that single one.\n",
    "\n",
    "#You must implement a solution with a linear runtime complexity and use only constant extra space.\n",
    "\n",
    "\n",
    "\n",
    "def singleNumber(nums):\n",
    "    # initialize the result\n",
    "    res=0\n",
    "    # iterate over the array\n",
    "    for i in range(len(nums)):\n",
    "        # xor the result with nums[i]\n",
    "        res^=nums[i]\n",
    "    return res\n",
    "\n",
    "\n",
    "#driver code\n",
    "if __name__ == '__main__':\n",
    "    nums=[2,2,1]\n",
    "    print(singleNumber(nums))"
   ]
  },
  {
   "cell_type": "code",
   "execution_count": null,
   "metadata": {},
   "outputs": [],
   "source": [
    "def single_number(nums):\n",
    "    count = [0] * 32   # Initialize count array with zeros\n",
    "    res = 0\n",
    "    for i in range(32):   # Loop through all bit positions\n",
    "        for num in nums:\n",
    "            if (num >> i) & 1:   # Check if ith bit is set in num\n",
    "                count[i] += 1   # Increment count of ith bit\n",
    "        res |= ((count[i] % 3) << i)   # Set ith bit of res based on count remainder\n",
    "    return res\n"
   ]
  },
  {
   "cell_type": "code",
   "execution_count": 25,
   "metadata": {},
   "outputs": [],
   "source": [
    "A=2\n",
    "A>>=1"
   ]
  },
  {
   "cell_type": "code",
   "execution_count": 26,
   "metadata": {},
   "outputs": [
    {
     "data": {
      "text/plain": [
       "1"
      ]
     },
     "execution_count": 26,
     "metadata": {},
     "output_type": "execute_result"
    }
   ],
   "source": [
    "A"
   ]
  },
  {
   "cell_type": "code",
   "execution_count": 28,
   "metadata": {},
   "outputs": [
    {
     "data": {
      "text/plain": [
       "0"
      ]
     },
     "execution_count": 28,
     "metadata": {},
     "output_type": "execute_result"
    }
   ],
   "source": [
    "# flip a bit\n",
    "A=1\n",
    "A ^= 1\n",
    "A\n"
   ]
  },
  {
   "cell_type": "code",
   "execution_count": null,
   "metadata": {},
   "outputs": [],
   "source": []
  },
  {
   "cell_type": "code",
   "execution_count": null,
   "metadata": {},
   "outputs": [
    {
     "data": {
      "text/plain": [
       "0"
      ]
     },
     "metadata": {},
     "output_type": "display_data"
    }
   ],
   "source": [
    "# flip a bit\n",
    "A=1\n",
    "A ^= 1\n",
    "A\n"
   ]
  },
  {
   "cell_type": "code",
   "execution_count": null,
   "metadata": {},
   "outputs": [
    {
     "data": {
      "text/plain": [
       "0"
      ]
     },
     "metadata": {},
     "output_type": "display_data"
    }
   ],
   "source": [
    "# flip a bit\n",
    "A=1\n",
    "A ^= 1\n",
    "A\n"
   ]
  },
  {
   "cell_type": "code",
   "execution_count": null,
   "metadata": {},
   "outputs": [
    {
     "data": {
      "text/plain": [
       "0"
      ]
     },
     "metadata": {},
     "output_type": "display_data"
    }
   ],
   "source": [
    "# flip a bit\n",
    "A=1\n",
    "A ^= 1\n",
    "A\n"
   ]
  },
  {
   "cell_type": "code",
   "execution_count": null,
   "metadata": {},
   "outputs": [
    {
     "data": {
      "text/plain": [
       "0"
      ]
     },
     "metadata": {},
     "output_type": "display_data"
    }
   ],
   "source": [
    "# flip a bit\n",
    "A=1\n",
    "A ^= 1\n",
    "A\n"
   ]
  },
  {
   "cell_type": "code",
   "execution_count": null,
   "metadata": {},
   "outputs": [
    {
     "data": {
      "text/plain": [
       "0"
      ]
     },
     "metadata": {},
     "output_type": "display_data"
    }
   ],
   "source": [
    "# flip a bit\n",
    "A=1\n",
    "A ^= 1\n",
    "A\n"
   ]
  },
  {
   "cell_type": "code",
   "execution_count": null,
   "metadata": {},
   "outputs": [
    {
     "data": {
      "text/plain": [
       "0"
      ]
     },
     "metadata": {},
     "output_type": "display_data"
    }
   ],
   "source": [
    "# flip a bit\n",
    "A=1\n",
    "A ^= 1\n",
    "A\n"
   ]
  },
  {
   "cell_type": "code",
   "execution_count": null,
   "metadata": {},
   "outputs": [
    {
     "data": {
      "text/plain": [
       "0"
      ]
     },
     "metadata": {},
     "output_type": "display_data"
    }
   ],
   "source": [
    "# flip a bit\n",
    "A=1\n",
    "A ^= 1\n",
    "A\n"
   ]
  }
 ],
 "metadata": {
  "kernelspec": {
   "display_name": "lldStudy",
   "language": "python",
   "name": "python3"
  },
  "language_info": {
   "codemirror_mode": {
    "name": "ipython",
    "version": 3
   },
   "file_extension": ".py",
   "mimetype": "text/x-python",
   "name": "python",
   "nbconvert_exporter": "python",
   "pygments_lexer": "ipython3",
   "version": "3.10.9"
  },
  "orig_nbformat": 4
 },
 "nbformat": 4,
 "nbformat_minor": 2
}
