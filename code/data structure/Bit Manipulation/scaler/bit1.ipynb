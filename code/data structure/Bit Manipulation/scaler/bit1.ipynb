{
 "cells": [
  {
   "cell_type": "markdown",
   "metadata": {},
   "source": [
    "#### Q1. Add Binary Strings\n",
    "* Given two binary strings A and B. Return their sum (also a binary string)."
   ]
  },
  {
   "cell_type": "code",
   "execution_count": 1,
   "metadata": {},
   "outputs": [
    {
     "name": "stdout",
     "output_type": "stream",
     "text": [
      "10000\n"
     ]
    }
   ],
   "source": [
    "#two binaery string A and B and  return there sum\n",
    "# A=\"1100\"\n",
    "# B=\"100\"\n",
    "#sum=\"11000\"\n",
    "\n",
    "def addBinary(A:str,B:str)->str:\n",
    "    A=int(A,2)\n",
    "    B=int(B,2)\n",
    "    sum=A+B\n",
    "    sum=bin(sum)# bin is function which returns a string representation of binary representation\n",
    "    sum=sum[2:] # only take the 2 most significant\n",
    "    return sum\n",
    "\n",
    "if __name__ == \"__main__\":\n",
    "    A=\"1100\"\n",
    "    B=\"100\"\n",
    "    print(addBinary(A,B))\n"
   ]
  },
  {
   "cell_type": "markdown",
   "metadata": {},
   "source": [
    "#### single number\n",
    "- given an array of integers, every element appears twice except for one. Find that single one.\n",
    "   - A=[1,2,2,3,1]\n",
    "   - output: 3\n",
    "   - A=[1,2,2,3,1,3,4,5,4]\n",
    "   - output: 5\n",
    "   - A=[1,2,2,3,1,3,4,5,4,5,6,6,7,8,8,7]\n",
    "   - output: 5\n",
    "\n",
    "* approach  to solve this problem\n",
    "*  find the xor of the array\n",
    "*  xor of the array will give the single number\n",
    "*  because xor of two same number is 0\n",
    "*  xor of two different number is 1\n",
    "*  xor of 0 and any number is the number itself\n",
    "*  xor is commutative and associative\n",
    "*  xor of a number with itself is 0\n",
    "*  xor of a number with 0 is the number itself\n",
    "*  xor of a number with 1 is the complement of the number"
   ]
  },
  {
   "cell_type": "code",
   "execution_count": 3,
   "metadata": {},
   "outputs": [
    {
     "name": "stdout",
     "output_type": "stream",
     "text": [
      "0\n",
      "5\n",
      "3\n",
      "0\n",
      "0\n",
      "0\n",
      "0\n",
      "0\n",
      "0\n",
      "0\n",
      "0\n",
      "3\n"
     ]
    }
   ],
   "source": [
    "# given an array of integers, every element appears twice except for one. Find that single one.\n",
    "# A=[1,2,2,3,1]\n",
    "# output: 3\n",
    "# A=[1,2,2,3,1,3,4,5,4]\n",
    "# output: 5\n",
    "# A=[1,2,2,3,1,3,4,5,4,5,6,6,7,8,8,7]\n",
    "# output: 5\n",
    "\n",
    "\n",
    "# approach  to solve this problem\n",
    "#  find the xor of the array\n",
    "#  xor of the array will give the single number\n",
    "#  because xor of two same number is 0\n",
    "#  xor of two different number is 1\n",
    "#  xor of 0 and any number is the number itself\n",
    "#  xor is commutative and associative\n",
    "#  xor of a number with itself is 0\n",
    "#  xor of a number with 0 is the number itself\n",
    "#  xor of a number with 1 is the complement of the number\n",
    "def singleNumber(A):\n",
    "    res=0\n",
    "    for i in range(len(A)):\n",
    "        res=res^A[i]\n",
    "    return res\n",
    "\n",
    "\n",
    "if __name__ == \"__main__\":\n",
    "    A=[1,2,2,3,1,3,4,5,4,5,6,6,7,8,8,7]\n",
    "    print(singleNumber(A))\n",
    "    A=[1,2,2,3,1,3,4,5,4]\n",
    "    print(singleNumber(A))\n",
    "    A=[1,2,2,3,1]\n",
    "    print(singleNumber(A))\n",
    "    A=[1,2,2,3,1,3,4,5,4,5,6,6,7,8,8,7]\n",
    "    print(singleNumber(A))\n",
    "    A=[1,2,2,3,1,3,4,5,4,5,6,6,7,8,8,7]\n",
    "    print(singleNumber(A))\n",
    "    A=[1,2,2,3,1,3,4,5,4,5,6,6,7,8,8,7]\n",
    "    print(singleNumber(A))\n",
    "    A=[1,2,2,3,1,3,4,5,4,5,6,6,7,8,8,7]\n",
    "    print(singleNumber(A))\n",
    "    A=[1,2,2,3,1,3,4,5,4,5,6,6,7,8,8,7]\n",
    "    print(singleNumber(A))\n",
    "    A=[1,2,2,3,1,3,4,5,4,5,6,6,7,8,8,7]\n",
    "    print(singleNumber(A))\n",
    "    A=[1,2,2,3,1,3,4,5,4,5,6,6,7,8,8,7]\n",
    "    print(singleNumber(A))\n",
    "    A=[1,2,2,3,1,3,4,5,4,5,6,6,7,8,8,7]\n",
    "    print(singleNumber(A))\n",
    "    A=[1,2,2,3,1]\n",
    "    print(singleNumber(A))\n",
    "\n",
    "\n",
    "\n",
    "# approach two for\n",
    "\n"
   ]
  },
  {
   "cell_type": "markdown",
   "metadata": {},
   "source": [
    "#### Q1. Number of 1 Bits\n",
    "* Write a function that takes an unsigned integer and returns the number of 1 bits it has."
   ]
  },
  {
   "cell_type": "code",
   "execution_count": 5,
   "metadata": {},
   "outputs": [
    {
     "data": {
      "text/plain": [
       "5"
      ]
     },
     "execution_count": 5,
     "metadata": {},
     "output_type": "execute_result"
    }
   ],
   "source": [
    "A=10\n",
    "A>>1 # means divided by two"
   ]
  },
  {
   "cell_type": "code",
   "execution_count": 4,
   "metadata": {},
   "outputs": [
    {
     "name": "stdout",
     "output_type": "stream",
     "text": [
      "3\n",
      "2\n",
      "2\n",
      "2\n",
      "3\n"
     ]
    }
   ],
   "source": [
    "\n",
    "# approach one\n",
    "\n",
    "def NumberOfSetBits(A):\n",
    "    count=0\n",
    "    while(A):\n",
    "        if A&1: #A&1 is checked set bit there or not\n",
    "            count+=1 #count if set bit there\n",
    "        A=A>>1 #A>>1 means that A is divided by 2\n",
    "    return count\n",
    "\n",
    "if __name__ == \"__main__\":\n",
    "    A=11\n",
    "    print(NumberOfSetBits(A))\n",
    "    A=3\n",
    "    print(NumberOfSetBits(A))\n",
    "    A=5\n",
    "    print(NumberOfSetBits(A))\n",
    "    A=6\n",
    "    print(NumberOfSetBits(A))\n",
    "    A=7\n",
    "    print(NumberOfSetBits(A))\n",
    "  "
   ]
  },
  {
   "cell_type": "markdown",
   "metadata": {},
   "source": [
    "##### Reverse the bits of an 32 bit unsigned integer A.\n",
    "* Given an 32 bit number A, reverse the bits (in binary) and return a decimal number."
   ]
  },
  {
   "cell_type": "code",
   "execution_count": 8,
   "metadata": {},
   "outputs": [
    {
     "name": "stdout",
     "output_type": "stream",
     "text": [
      "3221225472\n"
     ]
    }
   ],
   "source": [
    "# given 32 bit integer ,reverse the bits and return in a decimal number\n",
    "def reverseBits(A):\n",
    "    res=0\n",
    "    for i in range(32):\n",
    "        res=res<<1 #3<<1 means 3*2\n",
    "        if A&1: #2&1 means 2 is odd or not\n",
    "            res=res^1 # 2^1 means 10^1=10\n",
    "        A=A>>1 # 3>>1 means 3/2=1\n",
    "    return res\n",
    "\n",
    "if __name__ == \"__main__\":\n",
    "    A=3\n",
    "    print(reverseBits(A))\n"
   ]
  },
  {
   "cell_type": "markdown",
   "metadata": {},
   "source": [
    "#### Q3. Interesting Array\n"
   ]
  },
  {
   "cell_type": "markdown",
   "metadata": {},
   "source": [
    "###### Problem Description\n",
    "* You have an array A with N elements. We have two types of operation available on this array :\n",
    "  - We can split an element B into two elements, C and D, such that B = C + D.\n",
    "  - We can merge two elements, P and Q, to one element, R, such that R = P ^ Q i.e., XOR of P and Q.\n",
    "- You have to determine whether it is possible to convert array A to size 1, containing a single element equal to 0 after several splits and/or merge?"
   ]
  },
  {
   "cell_type": "code",
   "execution_count": 9,
   "metadata": {},
   "outputs": [],
   "source": [
    "#A=[9,17]\n",
    "# 9 ^17=1001^10001=11000=24\n",
    "#24>>1=12\n",
    "#12^12=0"
   ]
  },
  {
   "cell_type": "code",
   "execution_count": null,
   "metadata": {},
   "outputs": [],
   "source": []
  }
 ],
 "metadata": {
  "kernelspec": {
   "display_name": "lldStudy",
   "language": "python",
   "name": "python3"
  },
  "language_info": {
   "codemirror_mode": {
    "name": "ipython",
    "version": 3
   },
   "file_extension": ".py",
   "mimetype": "text/x-python",
   "name": "python",
   "nbconvert_exporter": "python",
   "pygments_lexer": "ipython3",
   "version": "3.10.9"
  },
  "orig_nbformat": 4
 },
 "nbformat": 4,
 "nbformat_minor": 2
}
