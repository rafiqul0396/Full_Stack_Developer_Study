{
 "cells": [
  {
   "cell_type": "markdown",
   "metadata": {},
   "source": [
    "##### Q1. Help From Sam"
   ]
  },
  {
   "cell_type": "markdown",
   "metadata": {},
   "source": [
    "##### Problem Description\n",
    "- Alex and Sam are good friends. Alex is doing a lot of programming these days. He has set a target score of A for himself.\n",
    "- Initially, Alex's score was zero. Alex can double his score by doing a question, or Alex can seek help from Sam for doing questions that will contribute 1 to Alex's score. Alex wants his score to be precisely A. Also, he does not want to take much help from Sam.\n",
    "\n",
    "- Find and return the minimum number of times Alex needs to take help from Sam to achieve a score of A."
   ]
  },
  {
   "cell_type": "code",
   "execution_count": 1,
   "metadata": {},
   "outputs": [
    {
     "name": "stdout",
     "output_type": "stream",
     "text": [
      "3\n"
     ]
    }
   ],
   "source": [
    "def solve(A):\n",
    "        hlp=0\n",
    "        while(A>0):\n",
    "            hlp+=A&1\n",
    "            A>>=1\n",
    "        return hlp\n",
    "\n",
    "if __name__==\"__main__\":\n",
    "    A=11\n",
    "    print(solve(A))"
   ]
  },
  {
   "cell_type": "markdown",
   "metadata": {},
   "source": [
    "##### Q2. Finding Good Days\n"
   ]
  },
  {
   "cell_type": "markdown",
   "metadata": {},
   "source": [
    "Alex has a cat named Boomer. He decides to put his cat to the test for eternity.\n",
    "\n",
    "He starts on day 1 with one stash of food unit, every next day, the stash doubles.\n",
    "\n",
    "If Boomer is well behaved during a particular day, only then she receives food worth equal to the stash produced on that day.\n",
    "\n",
    "Boomer receives a net worth of A units of food. What is the number of days she received the stash?"
   ]
  },
  {
   "cell_type": "code",
   "execution_count": 3,
   "metadata": {},
   "outputs": [
    {
     "name": "stdout",
     "output_type": "stream",
     "text": [
      "3\n"
     ]
    }
   ],
   "source": [
    "def solve(A):\n",
    "        countday=0\n",
    "        while(A>0):\n",
    "            countday+=A&1\n",
    "            A>>=1\n",
    "        return countday\n",
    "\n",
    "\n",
    "if __name__==\"__main__\":\n",
    "    A=11\n",
    "    print(solve(A))"
   ]
  },
  {
   "cell_type": "markdown",
   "metadata": {},
   "source": [
    "##### Q3. Number of 1 Bits"
   ]
  },
  {
   "cell_type": "markdown",
   "metadata": {},
   "source": [
    "Write a function that takes an integer and returns the number of 1 bits present in its binary representation."
   ]
  },
  {
   "cell_type": "code",
   "execution_count": 4,
   "metadata": {},
   "outputs": [
    {
     "name": "stdout",
     "output_type": "stream",
     "text": [
      "3\n"
     ]
    }
   ],
   "source": [
    "def numSetBits(A):\n",
    "\n",
    "        count=0\n",
    "        while(A>0):\n",
    "            if(A&1):\n",
    "                count+=1\n",
    "            A=A>>1\n",
    "        return count\n",
    "\n",
    "if __name__==\"__main__\":\n",
    "    A=11\n",
    "    print(numSetBits(A))"
   ]
  },
  {
   "cell_type": "markdown",
   "metadata": {},
   "source": [
    "##### Q1. Single Number III\n"
   ]
  },
  {
   "cell_type": "markdown",
   "metadata": {},
   "source": [
    "Given an array of positive integers A, two integers appear only once, and all the other integers appear twice.\n",
    "Find the two integers that appear only once.\n",
    "\n",
    "Note: Return the two numbers in ascending order."
   ]
  },
  {
   "cell_type": "code",
   "execution_count": 5,
   "metadata": {},
   "outputs": [
    {
     "name": "stdout",
     "output_type": "stream",
     "text": [
      "[3, 4]\n"
     ]
    }
   ],
   "source": [
    "def solve(nums):            \n",
    "        # XOR of all nums gives XOR of two unique nubers\n",
    "        xor_result = nums[0]\n",
    "        for num in nums[1:]:\n",
    "            xor_result ^= num\n",
    "\n",
    "        # Get rightmost set bit\n",
    "        rightmost_set_bit = xor_result & -xor_result\n",
    "\n",
    "        # Group numbers based on rightmost set bit\n",
    "        group_1, group_2 = 0, 0\n",
    "        for num in nums:\n",
    "            if num & rightmost_set_bit:\n",
    "                group_1 ^= num\n",
    "            else:\n",
    "                group_2 ^= num\n",
    "\n",
    "        return sorted([group_1, group_2])\n",
    "\n",
    "if __name__ == \"__main__\":\n",
    "    nums = [1, 2, 3, 2, 1, 4]\n",
    "    print(solve(nums))"
   ]
  },
  {
   "cell_type": "code",
   "execution_count": null,
   "metadata": {},
   "outputs": [],
   "source": []
  }
 ],
 "metadata": {
  "kernelspec": {
   "display_name": "lldStudy",
   "language": "python",
   "name": "python3"
  },
  "language_info": {
   "codemirror_mode": {
    "name": "ipython",
    "version": 3
   },
   "file_extension": ".py",
   "mimetype": "text/x-python",
   "name": "python",
   "nbconvert_exporter": "python",
   "pygments_lexer": "ipython3",
   "version": "3.10.9"
  },
  "orig_nbformat": 4
 },
 "nbformat": 4,
 "nbformat_minor": 2
}
