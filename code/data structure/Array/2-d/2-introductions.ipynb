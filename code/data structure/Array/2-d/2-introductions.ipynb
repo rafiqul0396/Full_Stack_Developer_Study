{
 "cells": [
  {
   "cell_type": "code",
   "execution_count": 1,
   "metadata": {},
   "outputs": [
    {
     "data": {
      "text/plain": [
       "[[0, 1, 2], [0, 1, 2], [0, 1, 2]]"
      ]
     },
     "execution_count": 1,
     "metadata": {},
     "output_type": "execute_result"
    }
   ],
   "source": [
    "# define 2-D array using  list comprehension\n",
    "# 2-D array is a list of list\n",
    "[[i for i in range(3)] for j in range(3)]"
   ]
  },
  {
   "cell_type": "code",
   "execution_count": 3,
   "metadata": {},
   "outputs": [
    {
     "name": "stdout",
     "output_type": "stream",
     "text": [
      "2\n"
     ]
    }
   ],
   "source": [
    "# given an 2-d array of size n*m, print the max sum of the columns of the array\n",
    "\n",
    "def max_sum(matrix):\n",
    "    # n is the number of rows\n",
    "    n=len(matrix)\n",
    "    # m is the number of columns\n",
    "    m=len(matrix[0])\n",
    "    # max_sum is the maximum sum of the column\n",
    "    max_sum=0\n",
    "    # max_col is the column with maximum sum\n",
    "    max_col=0\n",
    "    # iterate over each column\n",
    "    for j in range(m):\n",
    "        sum=0\n",
    "        # sum of each column\n",
    "        for i in range(n):\n",
    "            sum+=matrix[i][j]\n",
    "        # if sum is greater than max_sum, update max_sum and max_col\n",
    "        if sum>max_sum:\n",
    "            max_sum=sum\n",
    "            max_col=j\n",
    "    return max_col\n",
    "\n",
    "\n",
    "#drive code\n",
    "if __name__ == \"__main__\":\n",
    "    matrix=[[1,2,3],[4,5,6],[7,8,9]]\n",
    "    print(max_sum(matrix))\n",
    "\n",
    "\n",
    "\n",
    "\n",
    "\n",
    "\n"
   ]
  },
  {
   "cell_type": "code",
   "execution_count": 4,
   "metadata": {},
   "outputs": [
    {
     "name": "stdout",
     "output_type": "stream",
     "text": [
      "1 5 9 \n"
     ]
    }
   ],
   "source": [
    "## given 2-d array of size n*m, print diagonal element from left to right\n",
    "\n",
    "def diagonal(matrix):\n",
    "    # n is the number of rows\n",
    "    n=len(matrix)\n",
    "    # m is the number of columns\n",
    "    m=len(matrix[0])\n",
    "    # iterate over each row\n",
    "    for i in range(n):\n",
    "        # iterate over each column\n",
    "        for j in range(m):\n",
    "            # if row and column are same, print the element\n",
    "            if i==j:\n",
    "                print(matrix[i][j], end=\" \")\n",
    "    print()\n",
    "\n",
    "\n",
    "#drive code\n",
    "if __name__ == \"__main__\":\n",
    "    matrix=[[1,2,3],[4,5,6],[7,8,9]]\n",
    "    diagonal(matrix)"
   ]
  },
  {
   "cell_type": "code",
   "execution_count": 5,
   "metadata": {},
   "outputs": [
    {
     "name": "stdout",
     "output_type": "stream",
     "text": [
      "3 5 7 \n"
     ]
    }
   ],
   "source": [
    "# given 2-d array of size n*m, print diagonal element from right to left\n",
    "\n",
    "def diagonal(matrix):\n",
    "    # n is the number of rows\n",
    "    n=len(matrix)\n",
    "    # m is the number of columns\n",
    "    m=len(matrix[0])\n",
    "    # iterate over each row\n",
    "    for i in range(n):\n",
    "        # iterate over each column\n",
    "        for j in range(m):\n",
    "            # if row and column are same, print the element\n",
    "            if i+j==m-1:\n",
    "                print(matrix[i][j], end=\" \")\n",
    "    print()\n",
    "\n",
    "\n",
    "#drive code\n",
    "if __name__ == \"__main__\":\n",
    "    matrix=[[1,2,3],[4,5,6],[7,8,9]]\n",
    "    diagonal(matrix)"
   ]
  },
  {
   "cell_type": "code",
   "execution_count": 7,
   "metadata": {},
   "outputs": [
    {
     "name": "stdout",
     "output_type": "stream",
     "text": [
      "1 \n",
      "2 4 \n",
      "3 5 7 \n",
      "6 8 \n",
      "9 \n"
     ]
    }
   ],
   "source": [
    "\n",
    "#given a martix of  n*m and print all the diagonals of the matrix\n",
    "\n",
    "\n",
    "def all_diagonal(matrix):\n",
    "\n",
    "    # n is the number of rows\n",
    "    n=len(matrix)\n",
    "    # m is the number of columns\n",
    "    m=len(matrix[0])\n",
    "    # iterate over each row\n",
    "    for k in range(m):\n",
    "        i=0\n",
    "        j=k\n",
    "        while(j>=0 and i<n):\n",
    "            print(matrix[i][j], end=\" \")\n",
    "            i+=1\n",
    "            j-=1\n",
    "        print()\n",
    "\n",
    "    for k in range(1,n):\n",
    "        i=k\n",
    "        j=m-1\n",
    "        while(i<n and j>=0):\n",
    "            print(matrix[i][j], end=\" \")\n",
    "            i+=1\n",
    "            j-=1\n",
    "        print()    \n",
    "\n",
    "#drive code\n",
    "if __name__ == \"__main__\":\n",
    "    matrix=[[1,2,3],[4,5,6],[7,8,9]]\n",
    "    all_diagonal(matrix)\n",
    "\n"
   ]
  },
  {
   "cell_type": "code",
   "execution_count": 8,
   "metadata": {},
   "outputs": [
    {
     "name": "stdout",
     "output_type": "stream",
     "text": [
      "[[1, 4, 7], [2, 5, 8], [3, 6, 9]]\n"
     ]
    }
   ],
   "source": [
    "# given the matrix of size n*m, print the matrix in transpose  matrix\n",
    "def  transpose(matrix):\n",
    "    # n is the number of rows\n",
    "    n=len(matrix)\n",
    "    # m is the number of columns\n",
    "    m=len(matrix[0])\n",
    "    # iterate over each row\n",
    "    for i in range(n):\n",
    "        # iterate over each column\n",
    "        for j in range(m):\n",
    "            # transpose the matrix\n",
    "            if i<j:\n",
    "                matrix[i][j],matrix[j][i]=matrix[j][i],matrix[i][j]\n",
    "    return matrix\n",
    "\n",
    "\n",
    "#drive code\n",
    "if __name__ == \"__main__\":\n",
    "    matrix=[[1,2,3],[4,5,6],[7,8,9]]\n",
    "    print(transpose(matrix))\n",
    "\n",
    "#time complexity: O(n^2)\n",
    "#space complexity: O(1)\n"
   ]
  },
  {
   "cell_type": "code",
   "execution_count": 9,
   "metadata": {},
   "outputs": [
    {
     "name": "stdout",
     "output_type": "stream",
     "text": [
      "[[7, 4, 1], [8, 5, 2], [9, 6, 3]]\n"
     ]
    }
   ],
   "source": [
    "# given a squre matrix, rotate the matrix by 90 degree\n",
    "\n",
    "def rotate(matrix):\n",
    "    # n is the number of rows\n",
    "    n=len(matrix)\n",
    "    # m is the number of columns\n",
    "    m=len(matrix[0])\n",
    "    # transpose the matrix\n",
    "    for i in range(n):\n",
    "        for j in range(m):\n",
    "            if i<j:\n",
    "                matrix[i][j],matrix[j][i]=matrix[j][i],matrix[i][j]\n",
    "    # reverse each row\n",
    "    for i in range(n):\n",
    "        matrix[i].reverse()\n",
    "    return matrix\n",
    "\n",
    "\n",
    "#drive code\n",
    "if __name__ == \"__main__\":\n",
    "    matrix=[[1,2,3],[4,5,6],[7,8,9]]\n",
    "    print(rotate(matrix))\n",
    "\n",
    "#time complexity: O(n^2)\n",
    "#space complexity: O(1)\n"
   ]
  },
  {
   "cell_type": "code",
   "execution_count": 10,
   "metadata": {},
   "outputs": [
    {
     "name": "stdout",
     "output_type": "stream",
     "text": [
      "[[9, 8, 7], [6, 5, 4], [3, 2, 1]]\n"
     ]
    }
   ],
   "source": [
    "# given a matrix ,roated a matrix with 180 degree\n",
    "\n",
    "def rotate(matrix):\n",
    "    # n is the number of rows\n",
    "    n=len(matrix)\n",
    "    # m is the number of columns\n",
    "    m=len(matrix[0])\n",
    "    # reverse each row\n",
    "    for i in range(n):\n",
    "        matrix[i].reverse()\n",
    "    # reverse each column\n",
    "    for j in range(m):\n",
    "        for i in range(n//2):\n",
    "            matrix[i][j],matrix[n-i-1][j]=matrix[n-i-1][j],matrix[i][j]\n",
    "    return matrix\n",
    "\n",
    "\n",
    "#drive code\n",
    "if __name__ == \"__main__\":\n",
    "    matrix=[[1,2,3],[4,5,6],[7,8,9]]\n",
    "    print(rotate(matrix))\n",
    "    "
   ]
  },
  {
   "cell_type": "code",
   "execution_count": 11,
   "metadata": {},
   "outputs": [
    {
     "name": "stdout",
     "output_type": "stream",
     "text": [
      "[[3, 6, 9], [2, 5, 8], [1, 4, 7]]\n"
     ]
    }
   ],
   "source": [
    "# given a matrix ,print a matrix with 270 degree\n",
    "\n",
    "\n",
    "def rotate(matrix):\n",
    "    # n is the number of rows\n",
    "    n=len(matrix)\n",
    "    # m is the number of columns\n",
    "    m=len(matrix[0])\n",
    "    # transpose the matrix\n",
    "    for i in range(n):\n",
    "        for j in range(m):\n",
    "            if i<j:\n",
    "                matrix[i][j],matrix[j][i]=matrix[j][i],matrix[i][j]\n",
    "    # reverse each column\n",
    "    for j in range(m):\n",
    "        for i in range(n//2):\n",
    "            matrix[i][j],matrix[n-i-1][j]=matrix[n-i-1][j],matrix[i][j]\n",
    "    return matrix\n",
    "\n",
    "\n",
    "#drive code\n",
    "if __name__ == \"__main__\":\n",
    "    matrix=[[1,2,3],[4,5,6],[7,8,9]]\n",
    "    print(rotate(matrix))"
   ]
  },
  {
   "cell_type": "code",
   "execution_count": 12,
   "metadata": {},
   "outputs": [
    {
     "name": "stdout",
     "output_type": "stream",
     "text": [
      "1 2 3 6 9 8 7 4 \n",
      "5 \n"
     ]
    }
   ],
   "source": [
    "# given a matrix, print the matrix in spiral form\n",
    "\n",
    "\n",
    "def spiral(matrix):\n",
    "    # n is the number of rows\n",
    "    n=len(matrix)\n",
    "    # m is the number of columns\n",
    "    m=len(matrix[0])\n",
    "    # initialize the top, bottom, left and right\n",
    "    top=0\n",
    "    bottom=n-1\n",
    "    left=0\n",
    "    right=m-1\n",
    "    # iterate over the matrix\n",
    "    while(top<=bottom and left<=right):\n",
    "        # print the top row\n",
    "        for i in range(left,right+1):\n",
    "            print(matrix[top][i], end=\" \")\n",
    "        top+=1\n",
    "        # print the right column\n",
    "        for i in range(top,bottom+1):\n",
    "            print(matrix[i][right], end=\" \")\n",
    "        right-=1\n",
    "        # print the bottom row\n",
    "        for i in range(right,left-1,-1):\n",
    "            print(matrix[bottom][i], end=\" \")\n",
    "        bottom-=1\n",
    "        # print the left column\n",
    "        for i in range(bottom,top-1,-1):\n",
    "            print(matrix[i][left], end=\" \")\n",
    "        left+=1\n",
    "        print()\n",
    "\n",
    "#drive code\n",
    "if __name__ == \"__main__\":\n",
    "    matrix=[[1,2,3],[4,5,6],[7,8,9]]\n",
    "    spiral(matrix)"
   ]
  },
  {
   "cell_type": "code",
   "execution_count": 13,
   "metadata": {},
   "outputs": [
    {
     "name": "stdout",
     "output_type": "stream",
     "text": [
      "[[2, 4, 6], [8, 10, 12], [14, 16, 18]]\n"
     ]
    }
   ],
   "source": [
    "#You are given two matrices A & B of same size, you have to return another matrix which is the sum of A and B.\n",
    "\n",
    "\n",
    "def sum_matrix(matrix1,matrix2):\n",
    "    # n is the number of rows\n",
    "    n=len(matrix1)\n",
    "    # m is the number of columns\n",
    "    m=len(matrix1[0])\n",
    "    # initialize the matrix\n",
    "    matrix=[[0 for i in range(m)] for j in range(n)]\n",
    "    # iterate over the matrix\n",
    "    for i in range(n):\n",
    "        for j in range(m):\n",
    "            # add the element of matrix1 and matrix2\n",
    "            matrix[i][j]=matrix1[i][j]+matrix2[i][j]\n",
    "    return matrix\n",
    "\n",
    "\n",
    "#drive code\n",
    "if __name__ == \"__main__\":\n",
    "    matrix1=[[1,2,3],[4,5,6],[7,8,9]]\n",
    "    matrix2=[[1,2,3],[4,5,6],[7,8,9]]\n",
    "    print(sum_matrix(matrix1,matrix2))"
   ]
  },
  {
   "cell_type": "code",
   "execution_count": 14,
   "metadata": {},
   "outputs": [
    {
     "name": "stdout",
     "output_type": "stream",
     "text": [
      "[[30, 36, 42], [66, 81, 96], [102, 126, 150]]\n"
     ]
    }
   ],
   "source": [
    "#You are given two integer matrices A(having M X N size) and B(having N X P). You have to multiply matrix A with B and return the resultant matrix. (i.e. return the matrix AB).\n",
    "\n",
    "\n",
    "def multiply_matrix(matrix1,matrix2):\n",
    "    # n is the number of rows\n",
    "    n=len(matrix1)\n",
    "    # m is the number of columns\n",
    "    m=len(matrix1[0])\n",
    "    # p is the number of columns\n",
    "    p=len(matrix2[0])\n",
    "    # initialize the matrix\n",
    "    matrix=[[0 for i in range(p)] for j in range(n)]\n",
    "    # iterate over the matrix\n",
    "    for i in range(n):\n",
    "        for j in range(p):\n",
    "            for k in range(m):\n",
    "                # multiply the element of matrix1 and matrix2\n",
    "                matrix[i][j]+=matrix1[i][k]*matrix2[k][j]\n",
    "    return matrix\n",
    "\n",
    "\n",
    "#drive code\n",
    "if __name__ == \"__main__\":\n",
    "    matrix1=[[1,2,3],[4,5,6],[7,8,9]]\n",
    "    matrix2=[[1,2,3],[4,5,6],[7,8,9]]\n",
    "    print(multiply_matrix(matrix1,matrix2))"
   ]
  },
  {
   "cell_type": "code",
   "execution_count": 15,
   "metadata": {},
   "outputs": [
    {
     "name": "stdout",
     "output_type": "stream",
     "text": [
      "[[1, 2, 3], [8, 9, 4], [7, 6, 5]]\n"
     ]
    }
   ],
   "source": [
    "## Given an integer A, generate a square matrix filled with elements from 1 to A2 in spiral order and return the generated square matrix.\n",
    "\n",
    "def generate_matrix(A):\n",
    "    # initialize the matrix\n",
    "    matrix=[[0 for i in range(A)] for j in range(A)]\n",
    "    # initialize the top, bottom, left and right\n",
    "    top=0\n",
    "    bottom=A-1\n",
    "    left=0\n",
    "    right=A-1\n",
    "    # initialize the number\n",
    "    number=1\n",
    "    # iterate over the matrix\n",
    "    while(top<=bottom and left<=right):\n",
    "        # print the top row\n",
    "        for i in range(left,right+1):\n",
    "            matrix[top][i]=number\n",
    "            number+=1\n",
    "        top+=1\n",
    "        # print the right column\n",
    "        for i in range(top,bottom+1):\n",
    "            matrix[i][right]=number\n",
    "            number+=1\n",
    "        right-=1\n",
    "        # print the bottom row\n",
    "        for i in range(right,left-1,-1):\n",
    "            matrix[bottom][i]=number\n",
    "            number+=1\n",
    "        bottom-=1\n",
    "        # print the left column\n",
    "        for i in range(bottom,top-1,-1):\n",
    "            matrix[i][left]=number\n",
    "            number+=1\n",
    "        left+=1\n",
    "    return matrix\n",
    "\n",
    "#drive code\n",
    "if __name__ == \"__main__\":\n",
    "    A=3\n",
    "    print(generate_matrix(A))"
   ]
  },
  {
   "cell_type": "code",
   "execution_count": 16,
   "metadata": {},
   "outputs": [
    {
     "name": "stdout",
     "output_type": "stream",
     "text": [
      "[[2, 4, 6], [8, 10, 12], [14, 16, 18]]\n"
     ]
    }
   ],
   "source": [
    "# You are given a matrix A and and an integer B, you have to perform scalar multiplication of matrix A with an integer B.\n",
    "\n",
    "def scalar_multiply(matrix,B):\n",
    "    # n is the number of rows\n",
    "    n=len(matrix)\n",
    "    # m is the number of columns\n",
    "    m=len(matrix[0])\n",
    "    # iterate over the matrix\n",
    "    for i in range(n):\n",
    "        for j in range(m):\n",
    "            # multiply the element of matrix with B\n",
    "            matrix[i][j]*=B\n",
    "    return matrix\n",
    "\n",
    "#drive code\n",
    "if __name__ == \"__main__\":\n",
    "    matrix=[[1,2,3],[4,5,6],[7,8,9]]\n",
    "    B=2\n",
    "    print(scalar_multiply(matrix,B))"
   ]
  },
  {
   "cell_type": "code",
   "execution_count": 17,
   "metadata": {},
   "outputs": [
    {
     "name": "stdout",
     "output_type": "stream",
     "text": [
      "2\n"
     ]
    }
   ],
   "source": [
    "#\n",
    "def solve(A):\n",
    "        count=0\n",
    "        while(A>0):\n",
    "            count+=A&1\n",
    "            A=A>>1\n",
    "        return count\n",
    "#drive code\n",
    "\n",
    "if __name__ == \"__main__\":\n",
    "    A=5\n",
    "    print(solve(A))"
   ]
  },
  {
   "cell_type": "code",
   "execution_count": null,
   "metadata": {},
   "outputs": [],
   "source": []
  }
 ],
 "metadata": {
  "kernelspec": {
   "display_name": "lldStudy",
   "language": "python",
   "name": "python3"
  },
  "language_info": {
   "codemirror_mode": {
    "name": "ipython",
    "version": 3
   },
   "file_extension": ".py",
   "mimetype": "text/x-python",
   "name": "python",
   "nbconvert_exporter": "python",
   "pygments_lexer": "ipython3",
   "version": "3.10.9"
  },
  "orig_nbformat": 4
 },
 "nbformat": 4,
 "nbformat_minor": 2
}
