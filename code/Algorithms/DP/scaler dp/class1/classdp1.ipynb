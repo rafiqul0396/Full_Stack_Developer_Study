{
 "cells": [
  {
   "cell_type": "code",
   "execution_count": 17,
   "metadata": {},
   "outputs": [
    {
     "name": "stdout",
     "output_type": "stream",
     "text": [
      "[0, 1, 1, 2, 3, 5, 8, 13, 21, 34, 55]\n"
     ]
    }
   ],
   "source": [
    "arr=[-1]*(10+1) # because we are using the recursion here\n",
    "def fibonacci(n):\n",
    "    \n",
    "    \n",
    "    \n",
    "    if n==0 or n==1:\n",
    "        arr[n]=n\n",
    "        return n\n",
    "    if arr[n]!=-1:\n",
    "\n",
    "        return arr[n]\n",
    "    arr[n]=fibonacci(n-1)+fibonacci(n-2) # fibonacci recursion\n",
    "    \n",
    "    return arr[n]\n",
    "\n",
    "fibonacci(10)\n",
    "print(arr)"
   ]
  },
  {
   "cell_type": "code",
   "execution_count": 10,
   "metadata": {},
   "outputs": [
    {
     "name": "stdout",
     "output_type": "stream",
     "text": [
      "8\n",
      "55\n",
      "6765\n"
     ]
    }
   ],
   "source": [
    "## fibonacci series\n",
    "# 0 1 1 2 3 5 8 13 21 34 55 89 144 233 377\n",
    "\n",
    "def fibonacci_array(n):\n",
    "    fib = [0] * (n + 1)  # Create an array to store Fibonacci numbers\n",
    "\n",
    "    # Base cases\n",
    "    fib[0] = 0\n",
    "    fib[1] = 1\n",
    "\n",
    "    # Compute Fibonacci numbers from 2 to n\n",
    "    for i in range(2, n + 1):\n",
    "        fib[i] = fib[i - 1] + fib[i - 2]\n",
    "\n",
    "    return fib[n]\n",
    "\n",
    "# Example usage:\n",
    "print(fibonacci_array(6))  # Output: 8\n",
    "print(fibonacci_array(10))  # Output: 55\n",
    "print(fibonacci_array(20))  # Output: 6765\n",
    "\n",
    "    "
   ]
  },
  {
   "cell_type": "markdown",
   "metadata": {},
   "source": [
    "##### Top Down Dp\n",
    "\n",
    "- Recursive + Memoizations\n",
    "- we start with a bigger problems\n",
    "- go down recursive to smaller subproblems for which we already know the answer\n",
    "-\n"
   ]
  },
  {
   "cell_type": "markdown",
   "metadata": {},
   "source": [
    "##### Bottom Up DP\n",
    "\n",
    "     - iterative\n",
    "     - start from the subproblems for which you know the the solutions  and use that to iteravtively to solve the the bigger probems\n"
   ]
  },
  {
   "cell_type": "code",
   "execution_count": 1,
   "metadata": {},
   "outputs": [
    {
     "data": {
      "text/plain": [
       "55"
      ]
     },
     "execution_count": 1,
     "metadata": {},
     "output_type": "execute_result"
    }
   ],
   "source": [
    "## fibonacci series\n",
    "##  top down approach\n",
    "def fibonacci(n):\n",
    "    if n==0 or n==1:\n",
    "        return n\n",
    "    return fibonacci(n-1)+fibonacci(n-2)\n",
    "\n",
    "fibonacci(10)\n",
    "# time complexity O(2^n)\n",
    "# space complexity O(n)\n",
    "\n",
    "## fibonacci series\n",
    "##  bottom up approach\n",
    "def fibonacci(n):\n",
    "    arr=[0]*(n+1)\n",
    "    arr[0]=0\n",
    "    arr[1]=1\n",
    "    for i in range(2,n+1):\n",
    "        arr[i]=arr[i-1]+arr[i-2]\n",
    "    return arr[n]\n",
    "\n",
    "fibonacci(10)\n",
    "# time complexity O(n)\n",
    "# space complexity O(n)"
   ]
  },
  {
   "cell_type": "code",
   "execution_count": 3,
   "metadata": {},
   "outputs": [
    {
     "data": {
      "text/plain": [
       "55"
      ]
     },
     "execution_count": 3,
     "metadata": {},
     "output_type": "execute_result"
    }
   ],
   "source": [
    "## more optimized bottom up approach\n",
    "def fibonacci(n):\n",
    "    fib1=1\n",
    "    fib2=1\n",
    "    for i in range(3,n+1):\n",
    "        fib=fib1+fib2\n",
    "        fib1=fib2\n",
    "        fib2=fib\n",
    "    return fib2\n",
    "\n",
    "fibonacci(10)\n",
    "#time complexity O(n)\n",
    "#space complexity O(1)"
   ]
  },
  {
   "cell_type": "markdown",
   "metadata": {},
   "source": [
    "##### StairCase\n",
    "\n",
    "- https://www.youtube.com/watch?v=5o-kdjv7FD0\n",
    "- in One Step :\n",
    "\n",
    "  - jump 1 step\n",
    "  - jump 2 step\n",
    "\n",
    "- find the number of ways to reach the top of the staircase or the nth step\n",
    "-\n"
   ]
  },
  {
   "cell_type": "code",
   "execution_count": 5,
   "metadata": {},
   "outputs": [
    {
     "data": {
      "text/plain": [
       "3"
      ]
     },
     "execution_count": 5,
     "metadata": {},
     "output_type": "execute_result"
    }
   ],
   "source": [
    "## staircase problem\n",
    "## top down approach\n",
    "\n",
    "def staircase(n):\n",
    "    if n==0 or n==1:\n",
    "        return 1\n",
    "    if n==2:\n",
    "        return 2\n",
    "    return staircase(n-1)+staircase(n-2)\n",
    "\n",
    "staircase(3)"
   ]
  },
  {
   "cell_type": "code",
   "execution_count": 7,
   "metadata": {},
   "outputs": [
    {
     "name": "stdout",
     "output_type": "stream",
     "text": [
      "3\n",
      "3\n"
     ]
    }
   ],
   "source": [
    "## stair case problem\n",
    "# approach to solve the problem\n",
    "# step 1: element of choice\n",
    "# step 2: how to represent the state of the problem\n",
    "# step 3: use step 1 to write the recursive relation\n",
    "       # 3.1: overlapping subproblems\n",
    "\n",
    "# step 4:  which state is the final answer of the problem\n",
    "\n",
    "\n",
    "## staircase problem\n",
    "## solution using memoization\n",
    "# step 1: element of choice\n",
    "       ###   step of size 1 or 2\n",
    "\n",
    "# step 2: how to represent the state of the problem\n",
    "       ### no of ways to reach the ith step\n",
    "       ### dp[i]\n",
    "\n",
    "# step 3: use step 1 to write the recursive relation\n",
    "        ## dp[i]=dp[i-1]+dp[i-2]\n",
    "\n",
    "# step 4:  which state is the final answer of the problem\n",
    "        ### dp[n]\n",
    "\n",
    "\n",
    "def staircase(n):\n",
    "    dp=[0]*(n+1)\n",
    "    dp[0]=1\n",
    "    dp[1]=1\n",
    "    dp[2]=2\n",
    "    for i in range(3,n+1):\n",
    "        dp[i]=dp[i-1]+dp[i-2]\n",
    "    return dp[n]\n",
    "\n",
    "if __name__=='__main__':\n",
    "    n=int(input())\n",
    "    print(staircase(n))\n",
    "\n",
    "#time complexity O(n)\n",
    "#space complexity O(n)\n",
    "\n",
    "## optimazed solution of staircase problem\n",
    "def staircase(n):\n",
    "    step1=1\n",
    "    step2=2\n",
    "    for i in range(3,n+1):\n",
    "        step=step1+step2\n",
    "        step1=step2\n",
    "        step2=step\n",
    "    return step2\n",
    "\n",
    "if __name__=='__main__':\n",
    "    n=3\n",
    "    print(staircase(n))\n"
   ]
  },
  {
   "cell_type": "markdown",
   "metadata": {},
   "source": [
    "##### 746. Min Cost Climbing Stairs\n",
    "\n",
    "- https://leetcode.com/problems/min-cost-climbing-stairs/\n",
    "- problem statement\n",
    "  - you are given an array cost where cost[i] is the cost of ith step on a staircase\n",
    "  - once you pay the cost you can either climb one or two steps\n",
    "  - you can either start from the step with index 0 or the step with index 1\n",
    "  - return the minimum cost to reach the top of the floor\n"
   ]
  },
  {
   "cell_type": "code",
   "execution_count": 10,
   "metadata": {},
   "outputs": [
    {
     "name": "stdout",
     "output_type": "stream",
     "text": [
      "15\n",
      "6\n",
      "15\n",
      "6\n"
     ]
    }
   ],
   "source": [
    "## 746 min cost climbing stairs\n",
    "## bottom up approach\n",
    "## step 1: element of choice\n",
    "    ### 1 or 2 steps\n",
    "    ### min cost to reach 1 : cost[0]\n",
    "    ### min cost to reach 2 : cost[1]\n",
    "\n",
    "## step 2: how to represent the state of the problem\n",
    "     ### min cost to reach ith step\n",
    "     ###  dp[i]\n",
    "\n",
    "## step 3: use step 1 to write the recursive relation\n",
    "        ### dp[i]=min(dp[i-1],dp[i-2])+cost[i]\n",
    "\n",
    "## step 4:  which state is the final answer of the problem\n",
    "        ### dp[n]\n",
    "\n",
    "def mincostclimbingstairs(cost):\n",
    "    n=len(cost)\n",
    "    dp=[0]*(n+1)\n",
    "    dp[0]=cost[0]\n",
    "    dp[1]=cost[1]\n",
    "    for i in range(2,n+1):\n",
    "        if i==n:\n",
    "            dp[i]=min(dp[i-1],dp[i-2])\n",
    "        else:\n",
    "            dp[i]=min(dp[i-1],dp[i-2])+cost[i]\n",
    "    return dp[n]\n",
    "\n",
    "if __name__=='__main__':\n",
    "    cost=[10,15,20]\n",
    "    print(mincostclimbingstairs(cost))\n",
    "    cost=[1,100,1,1,1,100,1,1,100,1]\n",
    "    print(mincostclimbingstairs(cost))\n",
    "\n",
    "# time complexity O(n)\n",
    "# space complexity O(n)\n",
    "\n",
    "## optimized solution of min cost climbing stairs\n",
    "def mincostclimbingstairs(cost):\n",
    "    n=len(cost)\n",
    "    step1=cost[0]\n",
    "    step2=cost[1]\n",
    "    for i in range(2,n+1):\n",
    "        if i==n:\n",
    "            step=step1 if step1<step2 else step2\n",
    "        else:\n",
    "            step=min(step1,step2)+cost[i]\n",
    "            step1=step2\n",
    "            step2=step\n",
    "    return step\n",
    "\n",
    "if __name__=='__main__':\n",
    "    cost=[10,15,20]\n",
    "    print(mincostclimbingstairs(cost))\n",
    "    cost=[1,100,1,1,1,100,1,1,100,1]\n",
    "    print(mincostclimbingstairs(cost))"
   ]
  },
  {
   "cell_type": "markdown",
   "metadata": {},
   "source": [
    "#### 198. House Robber\n",
    "\n",
    "- https://leetcode.com/problems/house-robber/\n",
    "- problem statements\n",
    "- you are a professional robber planning to rob houses along a street\n",
    "- each house has a certain amount of money stashed\n"
   ]
  },
  {
   "cell_type": "code",
   "execution_count": 16,
   "metadata": {},
   "outputs": [
    {
     "name": "stdout",
     "output_type": "stream",
     "text": [
      "4\n",
      "12\n",
      "4\n",
      "12\n"
     ]
    }
   ],
   "source": [
    "##198. House Robber\n",
    "## bottom up approach\n",
    "## step 1: element of choice\n",
    "    ### rob or not rob\n",
    "    ### if rob then max amount to rob 1st house : nums[0]\n",
    "    ### if rob then max amount to rob 2nd house : nums[1]\n",
    "\n",
    "## step 2: how to represent the state of the problem\n",
    "        ### max amount to rob ith house\n",
    "        ### dp[i]\n",
    "\n",
    "## step 3: use step 1 to write the recursive relation\n",
    "        ### dp[i]=max(dp[i-1],dp[i-2]+nums[i])\n",
    "\n",
    "## step 4:  which state is the final answer of the problem\n",
    "        ### dp[n]\n",
    "\n",
    "def houserobber(nums):\n",
    "    n=len(nums)\n",
    "    dp=[0]*(n+1)\n",
    "    dp[0]=nums[0]\n",
    "    dp[1]=nums[1]\n",
    "    for i in range(2,n+1):\n",
    "        #except last house\n",
    "        if i==n:\n",
    "            dp[i]=max(dp[i-1],dp[i-2])\n",
    "        else:\n",
    "            dp[i]=max(dp[i-1],dp[i-2]+nums[i]) \n",
    "    return dp[n]\n",
    "\n",
    "if __name__=='__main__':\n",
    "    nums=[1,2,3,1]\n",
    "    print(houserobber(nums))\n",
    "    nums=[2,7,9,3,1]\n",
    "    print(houserobber(nums))\n",
    "\n",
    "# time complexity O(n)\n",
    "# space complexity O(n)\n",
    "\n",
    "## optimized solution of house robber\n",
    "def houserobber(nums):\n",
    "    n=len(nums)\n",
    "    house1=nums[0]\n",
    "    house2=nums[1]\n",
    "    for i in range(2,n+1):\n",
    "        if i==n:\n",
    "            house=house1 if house1>house2 else house2\n",
    "        else:\n",
    "            house=max(house2,house1+nums[i])\n",
    "            house1=house2\n",
    "            house2=house\n",
    "    return house\n",
    "\n",
    "if __name__=='__main__':\n",
    "    nums=[1,2,3,1]\n",
    "    print(houserobber(nums))\n",
    "    nums=[2,7,9,3,1]\n",
    "    print(houserobber(nums))\n"
   ]
  },
  {
   "cell_type": "markdown",
   "metadata": {},
   "source": [
    "#### House Robber II\n",
    "\n",
    "- https://leetcode.com/problems/house-robber-ii/\n",
    "- problem statement:\n",
    "- you are a professional robber planning to rob houses along a street\n"
   ]
  },
  {
   "cell_type": "code",
   "execution_count": null,
   "metadata": {},
   "outputs": [],
   "source": [
    "### 213. House Robber II\n",
    "## bottom up approach\n",
    "## step 1: element of choice\n"
   ]
  },
  {
   "cell_type": "code",
   "execution_count": 21,
   "metadata": {},
   "outputs": [
    {
     "name": "stdout",
     "output_type": "stream",
     "text": [
      "26\n"
     ]
    }
   ],
   "source": [
    "#Q1. Let's Party\n",
    "#In Danceland, one person can party either alone or can pair up with another person.\n",
    "\n",
    "#Can you find in how many ways they can party if there are A people in Danceland?\n",
    "\n",
    "## bottom up approach\n",
    "## step 1: element of choice\n",
    "     ## party alone or with another person\n",
    "     ## one person party :1\n",
    "     ## 2 persons party : (1,1),(2)=2\n",
    "\n",
    "## step 2: how to represent the state of problems\n",
    "     ###  ith  persons party how many ways\n",
    "     ###  dp[i]\n",
    "\n",
    "## step 3: use step 1 to write the recursive functions\n",
    "         ###  dp[i]=dp[i]+dp[i-1]*(i-1)\n",
    "\n",
    "## final answer \n",
    "     ### dp[n]\n",
    "\n",
    "\n",
    "\n",
    "def partyways(n):\n",
    "     person1=1\n",
    "     person2=2\n",
    "     for i in range(3,n+1):\n",
    "          temp=person2+person1*(i-1)\n",
    "          person1=person2\n",
    "          person2=temp\n",
    "     return person2\n",
    "\n",
    "if __name__=='__main__':\n",
    "     n=5\n",
    "     print(partyways(n))"
   ]
  },
  {
   "cell_type": "code",
   "execution_count": 22,
   "metadata": {
    "vscode": {
     "languageId": "latex"
    }
   },
   "outputs": [],
   "source": []
  },
  {
   "cell_type": "code",
   "execution_count": 23,
   "metadata": {},
   "outputs": [
    {
     "name": "stdout",
     "output_type": "stream",
     "text": [
      "hello world\n"
     ]
    }
   ],
   "source": [
    "print(\"hello world\")"
   ]
  },
  {
   "cell_type": "code",
   "execution_count": 24,
   "metadata": {
    "slideshow": {
     "slide_type": "subslide"
    }
   },
   "outputs": [
    {
     "data": {
      "text/plain": [
       "'hello world'"
      ]
     },
     "execution_count": 24,
     "metadata": {},
     "output_type": "execute_result"
    }
   ],
   "source": [
    "\"hello world\""
   ]
  },
  {
   "cell_type": "code",
   "execution_count": null,
   "metadata": {},
   "outputs": [],
   "source": []
  }
 ],
 "metadata": {
  "kernelspec": {
   "display_name": "lldStudy",
   "language": "python",
   "name": "python3"
  },
  "language_info": {
   "codemirror_mode": {
    "name": "ipython",
    "version": 3
   },
   "file_extension": ".py",
   "mimetype": "text/x-python",
   "name": "python",
   "nbconvert_exporter": "python",
   "pygments_lexer": "ipython3",
   "version": "3.10.9"
  },
  "orig_nbformat": 4
 },
 "nbformat": 4,
 "nbformat_minor": 2
}
