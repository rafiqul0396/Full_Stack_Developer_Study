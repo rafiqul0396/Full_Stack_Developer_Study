{
  "nbformat": 4,
  "nbformat_minor": 0,
  "metadata": {
    "colab": {
      "private_outputs": true,
      "provenance": [],
      "authorship_tag": "ABX9TyNt0urJ0+ibnF3MrvlGWfOH",
      "include_colab_link": true
    },
    "kernelspec": {
      "name": "python3",
      "display_name": "Python 3"
    },
    "language_info": {
      "name": "python"
    }
  },
  "cells": [
    {
      "cell_type": "markdown",
      "metadata": {
        "id": "view-in-github",
        "colab_type": "text"
      },
      "source": [
        "<a href=\"https://colab.research.google.com/github/rafiqul0396/Full_Stack_Developer_Study/blob/main/all_about_identifers.ipynb\" target=\"_parent\"><img src=\"https://colab.research.google.com/assets/colab-badge.svg\" alt=\"Open In Colab\"/></a>"
      ]
    },
    {
      "cell_type": "markdown",
      "source": [
        "### Identifiers\n",
        "* Variable names\n",
        "* Function names\n",
        "* Module names\n",
        "* Class names\n",
        "* What is a legit identifier?\n",
        "* What are the conventions for identifiers of different types?\n",
        "\n",
        "\n",
        "\n",
        "\n",
        "\n",
        "---\n",
        "\n"
      ],
      "metadata": {
        "id": "Gq9N8jM650-l"
      }
    },
    {
      "cell_type": "markdown",
      "source": [
        "**dentifiers -- what can they be called?**\n",
        "- Any combination of\n",
        "\n",
        "* Letters (in theory, any Unicode character)\n",
        "* Numbers (except as the first character)\n",
        "* Underscores (_)\n",
        "\n",
        "\n",
        "\n"
      ],
      "metadata": {
        "id": "UuIELXqe61Qt"
      }
    },
    {
      "cell_type": "code",
      "source": [
        "x = 100\n",
        "\n",
        "x3 = 200\n",
        "\n",
        "abc_def_123 = [10, 20, 30]"
      ],
      "metadata": {
        "id": "tLplJzX16FTf"
      },
      "execution_count": null,
      "outputs": []
    },
    {
      "cell_type": "code",
      "source": [
        "# In Python, we normally use snake_case: lowercase letters and _ between words\n",
        "\n",
        "def hello(first_name, last_name):\n",
        "    return f'Hello, {first_name} {last_name}'\n",
        "\n",
        "hello('out', 'there')"
      ],
      "metadata": {
        "id": "OYru-L647fub"
      },
      "execution_count": null,
      "outputs": []
    },
    {
      "cell_type": "code",
      "source": [
        "class SmallCompany:  # camel case for the class name\n",
        "    def __init__(self, name):\n",
        "        self.company_name = name   # snake case for both the variable (name) and the attribute (company_name)"
      ],
      "metadata": {
        "id": "4guIDT387nl-"
      },
      "execution_count": null,
      "outputs": []
    },
    {
      "cell_type": "code",
      "source": [],
      "metadata": {
        "id": "dbqOsbLk76xU"
      },
      "execution_count": null,
      "outputs": []
    }
  ]
}